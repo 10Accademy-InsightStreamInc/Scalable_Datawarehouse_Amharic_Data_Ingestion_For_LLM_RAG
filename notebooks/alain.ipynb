{
 "cells": [
  {
   "cell_type": "code",
   "execution_count": null,
   "metadata": {},
   "outputs": [],
   "source": [
    "import os\n",
    "import pandas as pd"
   ]
  },
  {
   "cell_type": "code",
   "execution_count": null,
   "metadata": {},
   "outputs": [],
   "source": [
    "os.chdir('../')"
   ]
  },
  {
   "cell_type": "code",
   "execution_count": null,
   "metadata": {},
   "outputs": [],
   "source": [
    "from scrapper.news_sites.alain import AlainNewsScraper\n",
    "from db.connection.db_conn import DatabaseLoader"
   ]
  },
  {
   "cell_type": "code",
   "execution_count": null,
   "metadata": {},
   "outputs": [],
   "source": [
    "db = DatabaseLoader()"
   ]
  },
  {
   "cell_type": "code",
   "execution_count": null,
   "metadata": {},
   "outputs": [],
   "source": [
    "db_connection = db.connect()"
   ]
  },
  {
   "cell_type": "code",
   "execution_count": null,
   "metadata": {},
   "outputs": [],
   "source": [
    "scraper = AlainNewsScraper(url='https://am.al-ain.com/', number_of_pages_to_scrape=2)"
   ]
  },
  {
   "cell_type": "code",
   "execution_count": null,
   "metadata": {},
   "outputs": [],
   "source": [
    "news_data = scraper.get_full_news()"
   ]
  },
  {
   "cell_type": "code",
   "execution_count": null,
   "metadata": {},
   "outputs": [],
   "source": [
    "len(news_data)"
   ]
  },
  {
   "cell_type": "code",
   "execution_count": null,
   "metadata": {},
   "outputs": [],
   "source": [
    "news_df = pd.DataFrame(news_data)"
   ]
  },
  {
   "cell_type": "code",
   "execution_count": null,
   "metadata": {},
   "outputs": [],
   "source": [
    "news_df.head()"
   ]
  },
  {
   "cell_type": "code",
   "execution_count": null,
   "metadata": {},
   "outputs": [],
   "source": [
    "news_df.isna().sum()"
   ]
  },
  {
   "cell_type": "code",
   "execution_count": 22,
   "metadata": {},
   "outputs": [
    {
     "data": {
      "text/plain": [
       "(985, 9)"
      ]
     },
     "execution_count": 22,
     "metadata": {},
     "output_type": "execute_result"
    }
   ],
   "source": [
    "news_df.shape"
   ]
  },
  {
   "cell_type": "code",
   "execution_count": null,
   "metadata": {},
   "outputs": [],
   "source": [
    "news_df.to_csv('./data/raw/alain_news.csv', index=False)"
   ]
  },
  {
   "cell_type": "code",
   "execution_count": null,
   "metadata": {},
   "outputs": [],
   "source": [
    "db.add_data_to_table(news_df, 'news_articles')"
   ]
  },
  {
   "cell_type": "code",
   "execution_count": 23,
   "metadata": {},
   "outputs": [
    {
     "name": "stdout",
     "output_type": "stream",
     "text": [
      "                                             image_url  \\\n",
      "354  https://cdn.al-ain.com/images/2024/1/21/252-13...   \n",
      "374  https://cdn.al-ain.com/images/2024/1/08/252-19...   \n",
      "928  https://cdn.al-ain.com/images/2023/11/11/273-2...   \n",
      "942  https://cdn.al-ain.com/images/2023/10/20/252-1...   \n",
      "\n",
      "                                 title  \\\n",
      "354              ከተራና ጥምቀት በአሜሪካ ጎዳናዎች   \n",
      "374       የቤዛ ኩሉ ሃይማኖታዊ ሥርዓት በቅዱስ ላሊበላ   \n",
      "928               ኢንተርሚያሚ የሜሲን ደስታ ሲጋራ   \n",
      "942  የሮናልዶን ስኬቶች የአል ናስር ተጫዋቾች ሲያከብሩለት   \n",
      "\n",
      "                                           article_url  \\\n",
      "354  https://am.al-ain.com/article/washington-seatt...   \n",
      "374  https://am.al-ain.com/article/lalibela-ethiopi...   \n",
      "928  https://am.al-ain.com/article/messi-inter-miam...   \n",
      "942  https://am.al-ain.com/article/ronaldo-got-surp...   \n",
      "\n",
      "                                             highlight  time_publish category  \\\n",
      "354            የከተራና የጥምቀት በዓል በዋሽንግተን ሲያትል በደማቅ ተከብሯል  4 months ago   social   \n",
      "374  የቤዛ ኩሉ ሃይማኖታዊ ከትናንት ምሽት ጀምሮ መካሄድ የጀመረ ሲሆን፤ ዛሬም...  4 months ago   social   \n",
      "928  አርጀንቲናዊው ኮከብ ለኢንተርሚያሚ እየተጫወተ ባሎንዶር ያሸነፈ የመጀመሪያ...  6 months ago   sports   \n",
      "942  ሮናልዶ በፈረንጆቹ 2023 ያስቆጠራቸው ጎሎች አርባ የደረሱ ሲሆን፤ ሌሎች...  7 months ago   sports   \n",
      "\n",
      "    date_published publisher_name detail_content  \n",
      "354            NaN            NaN            NaN  \n",
      "374            NaN            NaN            NaN  \n",
      "928            NaN            NaN            NaN  \n",
      "942            NaN            NaN            NaN  \n"
     ]
    }
   ],
   "source": [
    "# get all null values\n",
    "print(news_df[news_df.isna().any(axis=1)])"
   ]
  }
 ],
 "metadata": {
  "kernelspec": {
   "display_name": "nlp",
   "language": "python",
   "name": "python3"
  },
  "language_info": {
   "codemirror_mode": {
    "name": "ipython",
    "version": 3
   },
   "file_extension": ".py",
   "mimetype": "text/x-python",
   "name": "python",
   "nbconvert_exporter": "python",
   "pygments_lexer": "ipython3",
   "version": "3.12.0"
  }
 },
 "nbformat": 4,
 "nbformat_minor": 2
}
