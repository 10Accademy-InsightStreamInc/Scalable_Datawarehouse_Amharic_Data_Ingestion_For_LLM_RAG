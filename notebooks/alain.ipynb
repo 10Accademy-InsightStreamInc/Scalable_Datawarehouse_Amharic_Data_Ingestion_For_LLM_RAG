{
 "cells": [
  {
   "cell_type": "code",
   "execution_count": 1,
   "metadata": {},
   "outputs": [],
   "source": [
    "import os\n",
    "import pandas as pd"
   ]
  },
  {
   "cell_type": "code",
   "execution_count": 2,
   "metadata": {},
   "outputs": [],
   "source": [
    "os.chdir('../')"
   ]
  },
  {
   "cell_type": "code",
   "execution_count": 4,
   "metadata": {},
   "outputs": [],
   "source": [
    "from scrapper.news_sites.alain import AlainNewsScraper\n",
    "from db.connection.db_conn import DatabaseLoader\n",
    "from scripts.clean_data import DataCleaner"
   ]
  },
  {
   "cell_type": "code",
   "execution_count": 5,
   "metadata": {},
   "outputs": [],
   "source": [
    "cleaner = DataCleaner()"
   ]
  },
  {
   "cell_type": "code",
   "execution_count": 6,
   "metadata": {},
   "outputs": [],
   "source": [
    "db = DatabaseLoader()"
   ]
  },
  {
   "cell_type": "code",
   "execution_count": 8,
   "metadata": {},
   "outputs": [
    {
     "name": "stdout",
     "output_type": "stream",
     "text": [
      "Connected to the database.\n"
     ]
    }
   ],
   "source": [
    "db_connection = db.connect()"
   ]
  },
  {
   "cell_type": "code",
   "execution_count": 7,
   "metadata": {},
   "outputs": [],
   "source": [
    "scraper = AlainNewsScraper(number_of_pages_to_scrape=1)"
   ]
  },
  {
   "cell_type": "code",
   "execution_count": null,
   "metadata": {},
   "outputs": [],
   "source": [
    "news_data = scraper.get_full_news()"
   ]
  },
  {
   "cell_type": "code",
   "execution_count": null,
   "metadata": {},
   "outputs": [],
   "source": [
    "len(news_data)"
   ]
  },
  {
   "cell_type": "code",
   "execution_count": null,
   "metadata": {},
   "outputs": [],
   "source": [
    "news_df = pd.DataFrame(news_data)"
   ]
  },
  {
   "cell_type": "code",
   "execution_count": null,
   "metadata": {},
   "outputs": [],
   "source": [
    "news_df.head()"
   ]
  },
  {
   "cell_type": "code",
   "execution_count": null,
   "metadata": {},
   "outputs": [],
   "source": [
    "news_df.isna().sum()"
   ]
  },
  {
   "cell_type": "code",
   "execution_count": null,
   "metadata": {},
   "outputs": [],
   "source": [
    "news_df.shape"
   ]
  },
  {
   "cell_type": "code",
   "execution_count": null,
   "metadata": {},
   "outputs": [],
   "source": [
    "news_df.to_csv(f\"./data/raw/alain_news_1_page.csv\", index=False)"
   ]
  },
  {
   "cell_type": "code",
   "execution_count": null,
   "metadata": {},
   "outputs": [],
   "source": [
    "db.add_data_to_table(news_df, 'news_articles')"
   ]
  },
  {
   "cell_type": "code",
   "execution_count": null,
   "metadata": {},
   "outputs": [],
   "source": [
    "# get all null values\n",
    "print(news_df[news_df.isna().any(axis=1)])"
   ]
  },
  {
   "cell_type": "code",
   "execution_count": 8,
   "metadata": {},
   "outputs": [],
   "source": [
    "news = pd.read_csv('./data/raw/alain_news_1_page.csv')"
   ]
  },
  {
   "cell_type": "code",
   "execution_count": 11,
   "metadata": {},
   "outputs": [
    {
     "data": {
      "text/html": [
       "<div>\n",
       "<style scoped>\n",
       "    .dataframe tbody tr th:only-of-type {\n",
       "        vertical-align: middle;\n",
       "    }\n",
       "\n",
       "    .dataframe tbody tr th {\n",
       "        vertical-align: top;\n",
       "    }\n",
       "\n",
       "    .dataframe thead th {\n",
       "        text-align: right;\n",
       "    }\n",
       "</style>\n",
       "<table border=\"1\" class=\"dataframe\">\n",
       "  <thead>\n",
       "    <tr style=\"text-align: right;\">\n",
       "      <th></th>\n",
       "      <th>image_url</th>\n",
       "      <th>title</th>\n",
       "      <th>article_url</th>\n",
       "      <th>highlight</th>\n",
       "      <th>time_publish</th>\n",
       "      <th>category</th>\n",
       "      <th>date_published</th>\n",
       "      <th>publisher_name</th>\n",
       "      <th>detail_content</th>\n",
       "    </tr>\n",
       "  </thead>\n",
       "  <tbody>\n",
       "    <tr>\n",
       "      <th>0</th>\n",
       "      <td>https://cdn.al-ain.com/sm/images/2024/5/22/243...</td>\n",
       "      <td>ተመድ በራፋ የሚያደርገውን የእርዳታ ስርጭት አቋረጠ</td>\n",
       "      <td>https://am.al-ain.com/article/un-halts-aid-gaza</td>\n",
       "      <td>የህክምና ቁሳቁሶች ከደረሱም 10 ቀናት አልፈዋል</td>\n",
       "      <td>13 hours ago</td>\n",
       "      <td>politics</td>\n",
       "      <td>2024/5/22 9:11 GMT</td>\n",
       "      <td>አል-ዐይን</td>\n",
       "      <td>የህክምና ቁሳቁሶች ከደረሱም 10 ቀናት አልፈዋል\\r\\nየተባበት መንግስታት...</td>\n",
       "    </tr>\n",
       "    <tr>\n",
       "      <th>1</th>\n",
       "      <td>https://cdn.al-ain.com/sm/images/2024/5/22/258...</td>\n",
       "      <td>ፕሬዝዳንት ዘለንስኪ ኔቶ የሩሲያን ሚሳኤል መቶ እንዲጥል ጠየቁ</td>\n",
       "      <td>https://am.al-ain.com/article/ukraine-russia-w...</td>\n",
       "      <td>ፕሬዝዳንቱ አክለውም ሀገራቱ ባሉበት ሆነው በዩክሬን ሰማይ ላይ የሚገቡ የ...</td>\n",
       "      <td>13 hours ago</td>\n",
       "      <td>politics</td>\n",
       "      <td>2024/5/22 8:43 GMT</td>\n",
       "      <td>አል-ዐይን</td>\n",
       "      <td>ፕሬዝዳንቱ አክለውም ሀገራቱ ባሉበት ሆነው በዩክሬን ሰማይ ላይ የሚገቡ የ...</td>\n",
       "    </tr>\n",
       "    <tr>\n",
       "      <th>2</th>\n",
       "      <td>https://cdn.al-ain.com/sm/images/2024/5/22/243...</td>\n",
       "      <td>ኖርዌይ ለፍልስጤም የሀገርነት እውቅና እንደምትሰጥ አስታወቀች</td>\n",
       "      <td>https://am.al-ain.com/article/norway-recognise...</td>\n",
       "      <td>የሀገሪቱ ጠቅላይ ሚንስተር ጆናስ ጋርስቶር መንግስታቸው ለፍልሰጤም ሙሉ የ...</td>\n",
       "      <td>14 hours ago</td>\n",
       "      <td>politics</td>\n",
       "      <td>2024/5/22 7:58 GMT</td>\n",
       "      <td>አል-ዐይን</td>\n",
       "      <td>የሀገሪቱ ጠቅላይ ሚንስተር ጆናስ ጋርስቶር መንግስታቸው ለፍልሰጤም ሙሉ የ...</td>\n",
       "    </tr>\n",
       "  </tbody>\n",
       "</table>\n",
       "</div>"
      ],
      "text/plain": [
       "                                           image_url  \\\n",
       "0  https://cdn.al-ain.com/sm/images/2024/5/22/243...   \n",
       "1  https://cdn.al-ain.com/sm/images/2024/5/22/258...   \n",
       "2  https://cdn.al-ain.com/sm/images/2024/5/22/243...   \n",
       "\n",
       "                                     title  \\\n",
       "0         ተመድ በራፋ የሚያደርገውን የእርዳታ ስርጭት አቋረጠ   \n",
       "1  ፕሬዝዳንት ዘለንስኪ ኔቶ የሩሲያን ሚሳኤል መቶ እንዲጥል ጠየቁ   \n",
       "2   ኖርዌይ ለፍልስጤም የሀገርነት እውቅና እንደምትሰጥ አስታወቀች   \n",
       "\n",
       "                                         article_url  \\\n",
       "0    https://am.al-ain.com/article/un-halts-aid-gaza   \n",
       "1  https://am.al-ain.com/article/ukraine-russia-w...   \n",
       "2  https://am.al-ain.com/article/norway-recognise...   \n",
       "\n",
       "                                           highlight  time_publish  category  \\\n",
       "0                     የህክምና ቁሳቁሶች ከደረሱም 10 ቀናት አልፈዋል  13 hours ago  politics   \n",
       "1  ፕሬዝዳንቱ አክለውም ሀገራቱ ባሉበት ሆነው በዩክሬን ሰማይ ላይ የሚገቡ የ...  13 hours ago  politics   \n",
       "2  የሀገሪቱ ጠቅላይ ሚንስተር ጆናስ ጋርስቶር መንግስታቸው ለፍልሰጤም ሙሉ የ...  14 hours ago  politics   \n",
       "\n",
       "       date_published publisher_name  \\\n",
       "0  2024/5/22 9:11 GMT         አል-ዐይን   \n",
       "1  2024/5/22 8:43 GMT         አል-ዐይን   \n",
       "2  2024/5/22 7:58 GMT         አል-ዐይን   \n",
       "\n",
       "                                      detail_content  \n",
       "0  የህክምና ቁሳቁሶች ከደረሱም 10 ቀናት አልፈዋል\\r\\nየተባበት መንግስታት...  \n",
       "1  ፕሬዝዳንቱ አክለውም ሀገራቱ ባሉበት ሆነው በዩክሬን ሰማይ ላይ የሚገቡ የ...  \n",
       "2  የሀገሪቱ ጠቅላይ ሚንስተር ጆናስ ጋርስቶር መንግስታቸው ለፍልሰጤም ሙሉ የ...  "
      ]
     },
     "execution_count": 11,
     "metadata": {},
     "output_type": "execute_result"
    }
   ],
   "source": [
    "news.head(3)"
   ]
  },
  {
   "cell_type": "code",
   "execution_count": 7,
   "metadata": {},
   "outputs": [],
   "source": [
    "sample_content = news['detail_content'][0]"
   ]
  },
  {
   "cell_type": "code",
   "execution_count": 8,
   "metadata": {},
   "outputs": [
    {
     "name": "stdout",
     "output_type": "stream",
     "text": [
      "የህክምና ቁሳቁሶች ከደረሱም 10 ቀናት አልፈዋል\n",
      "የተባበት መንግስታት ድርጅት(ተመድ) ቃል አቀባይ ስቴፈን ዱጃሪክ በአካባቢው ያሉትን የአለም የምግብ ፕሮግራም የእርዳታ ስርጭት ስፍራዎች የስጋት ቀጠና ሆነዋል ብለዋል።\n",
      "በአካባቢው የእስራኤል ጦር መጠኑ ከፍ ያለ ወታደራዊ ዘመቻ በማከነዋን ላይ ሲሆን በዚህ የተነሳም 1ሚልዮን የሚጠጉ ሰዎች ለምግብ እጥረት ተጋላጭ መሆናቸው ነው የተሰማው፡፡\n",
      "የእስራኤል ጦር ጋዛን ከግብጽ ጋር የሚያገናኘውን ወሳኝ ማቋረጫ ተቆጣጠረ\n",
      "በራፋ በኩል ዋነኛ የሰብአዊ እርዳታ ማጓጓዣ የነበረው መተላለፍያ ከተዘጋ ሁለት ሳምንታት ያስቆጠረ ሲሆን በዚህ ከቀጠለም ከፍተኛ ተፈናቆዮች በሚገኙበት በዚህ ስፍራ ሰብአዊ ሁኔታዎች ሊከፉ እንደሚችሉ ሲጂኤን ዘግቧል።\n",
      "የአለም ጤና ድርጅት ሀላፊ ዶክተር ቴዎድሮስ በአካባቢው በሚካሄደው ከፍተኛ ውግያ ምክንያት በአስከፊ ሁኔታ ላይ የሚገኙ 700 ታማሚዎች እና 148 የጤና ባለሙያዎችን ማስወጣት አልተቻለም ብለዋል፡፡\n",
      "የራፋ ድንበር መዘጋትን ተከትሎ አሜሪካ ተመድ እና ሌሎች የሰበአዊ ድጋፍ የሚያደርጉ አካላት አማራጭ የእርዳታ ማስተላለፍያ መንገዶችን በማፈላለግ ላይ ናቸው።  \n",
      "8ተኛ ወሩን ባስቆጠረው የጋዛ ጦርነት ከ35 ሺ የሚሻገሩ ንጹሀን ህይወታቸው አልፏል፡፡\n"
     ]
    }
   ],
   "source": [
    "print(sample_content)"
   ]
  },
  {
   "cell_type": "code",
   "execution_count": 9,
   "metadata": {},
   "outputs": [
    {
     "name": "stdout",
     "output_type": "stream",
     "text": [
      "የህክምና ቁሳቁሶች ከደረሱም 10 ቀናት አልፈዋል\n",
      "የተባበት መንግስታት ድርጅትተመድ ቃል አቀባይ ስቴፈን ዱጃሪክ በአካባቢው ያሉትን የአለም የምግብ ፕሮግራም የእርዳታ ስርጭት ስፍራዎች የስጋት ቀጠና ሆነዋል ብለዋል\n",
      "በአካባቢው የእስራኤል ጦር መጠኑ ከፍ ያለ ወታደራዊ ዘመቻ በማከነዋን ላይ ሲሆን በዚህ የተነሳም 1ሚልዮን የሚጠጉ ሰዎች ለምግብ እጥረት ተጋላጭ መሆናቸው ነው የተሰማው\n",
      "የእስራኤል ጦር ጋዛን ከግብጽ ጋር የሚያገናኘውን ወሳኝ ማቋረጫ ተቆጣጠረ\n",
      "በራፋ በኩል ዋነኛ የሰብአዊ እርዳታ ማጓጓዣ የነበረው መተላለፍያ ከተዘጋ ሁለት ሳምንታት ያስቆጠረ ሲሆን በዚህ ከቀጠለም ከፍተኛ ተፈናቆዮች በሚገኙበት በዚህ ስፍራ ሰብአዊ ሁኔታዎች ሊከፉ እንደሚችሉ ሲጂኤን ዘግቧል\n",
      "የአለም ጤና ድርጅት ሀላፊ ዶክተር ቴዎድሮስ በአካባቢው በሚካሄደው ከፍተኛ ውግያ ምክንያት በአስከፊ ሁኔታ ላይ የሚገኙ 700 ታማሚዎች እና 148 የጤና ባለሙያዎችን ማስወጣት አልተቻለም ብለዋል\n",
      "የራፋ ድንበር መዘጋትን ተከትሎ አሜሪካ ተመድ እና ሌሎች የሰበአዊ ድጋፍ የሚያደርጉ አካላት አማራጭ የእርዳታ ማስተላለፍያ መንገዶችን በማፈላለግ ላይ ናቸው  \n",
      "8ተኛ ወሩን ባስቆጠረው የጋዛ ጦርነት ከ35 ሺ የሚሻገሩ ንጹሀን ህይወታቸው አልፏል\n"
     ]
    }
   ],
   "source": [
    "punctuation_removed = cleaner.remove_punc_and_special_chars(sample_content)\n",
    "print(punctuation_removed)"
   ]
  },
  {
   "cell_type": "code",
   "execution_count": 10,
   "metadata": {},
   "outputs": [
    {
     "name": "stdout",
     "output_type": "stream",
     "text": [
      "የህክምና ቁሳቁሶች ከደረሱም  ቀናት አልፈዋል\n",
      "የተባበት መንግስታት ድርጅትተመድ ቃል አቀባይ ስቴፈን ዱጃሪክ በአካባቢው ያሉትን የአለም የምግብ ፕሮግራም የእርዳታ ስርጭት ስፍራዎች የስጋት ቀጠና ሆነዋል ብለዋል\n",
      "በአካባቢው የእስራኤል ጦር መጠኑ ከፍ ያለ ወታደራዊ ዘመቻ በማከነዋን ላይ ሲሆን በዚህ የተነሳም ሚልዮን የሚጠጉ ሰዎች ለምግብ እጥረት ተጋላጭ መሆናቸው ነው የተሰማው\n",
      "የእስራኤል ጦር ጋዛን ከግብጽ ጋር የሚያገናኘውን ወሳኝ ማቋረጫ ተቆጣጠረ\n",
      "በራፋ በኩል ዋነኛ የሰብአዊ እርዳታ ማጓጓዣ የነበረው መተላለፍያ ከተዘጋ ሁለት ሳምንታት ያስቆጠረ ሲሆን በዚህ ከቀጠለም ከፍተኛ ተፈናቆዮች በሚገኙበት በዚህ ስፍራ ሰብአዊ ሁኔታዎች ሊከፉ እንደሚችሉ ሲጂኤን ዘግቧል\n",
      "የአለም ጤና ድርጅት ሀላፊ ዶክተር ቴዎድሮስ በአካባቢው በሚካሄደው ከፍተኛ ውግያ ምክንያት በአስከፊ ሁኔታ ላይ የሚገኙ  ታማሚዎች እና  የጤና ባለሙያዎችን ማስወጣት አልተቻለም ብለዋል\n",
      "የራፋ ድንበር መዘጋትን ተከትሎ አሜሪካ ተመድ እና ሌሎች የሰበአዊ ድጋፍ የሚያደርጉ አካላት አማራጭ የእርዳታ ማስተላለፍያ መንገዶችን በማፈላለግ ላይ ናቸው  \n",
      "ተኛ ወሩን ባስቆጠረው የጋዛ ጦርነት ከ ሺ የሚሻገሩ ንጹሀን ህይወታቸው አልፏል\n"
     ]
    }
   ],
   "source": [
    "ascii_removed = cleaner.remove_ascii_and_numbers(punctuation_removed)\n",
    "print(ascii_removed)"
   ]
  },
  {
   "cell_type": "code",
   "execution_count": 11,
   "metadata": {},
   "outputs": [
    {
     "name": "stdout",
     "output_type": "stream",
     "text": [
      "የህክምና\n",
      "ቁሳቁሶች\n",
      "ከደረሱም\n",
      "ቀናት\n",
      "አልፈዋል\n",
      "የተባበት\n",
      "መንግስታት\n",
      "ድርጅትተመድ\n",
      "ቃል\n",
      "አቀባይ\n",
      "ስቴፈን\n",
      "ዱጃሪክ\n",
      "በአካባቢው\n",
      "ያሉትን\n",
      "የአለም\n",
      "የምግብ\n",
      "ፕሮግራም\n",
      "የእርዳታ\n",
      "ስርጭት\n",
      "ስፍራዎች\n",
      "የስጋት\n",
      "ቀጠና\n",
      "ሆነዋል\n",
      "ብለዋል\n",
      "በአካባቢው\n",
      "የእስራኤል\n",
      "ጦር\n",
      "መጠኑ\n",
      "ከፍ\n",
      "ያለ\n",
      "ወታደራዊ\n",
      "ዘመቻ\n",
      "በማከነዋን\n",
      "ላይ\n",
      "ሲሆን\n",
      "በዚህ\n",
      "የተነሳም\n",
      "ሚልዮን\n",
      "የሚጠጉ\n",
      "ሰዎች\n",
      "ለምግብ\n",
      "እጥረት\n",
      "ተጋላጭ\n",
      "መሆናቸው\n",
      "ነው\n",
      "የተሰማው\n",
      "የእስራኤል\n",
      "ጦር\n",
      "ጋዛን\n",
      "ከግብጽ\n",
      "ጋር\n",
      "የሚያገናኘውን\n",
      "ወሳኝ\n",
      "ማቋረጫ\n",
      "ተቆጣጠረ\n",
      "በራፋ\n",
      "በኩል\n",
      "ዋነኛ\n",
      "የሰብአዊ\n",
      "እርዳታ\n",
      "ማጓጓዣ\n",
      "የነበረው\n",
      "መተላለፍያ\n",
      "ከተዘጋ\n",
      "ሁለት\n",
      "ሳምንታት\n",
      "ያስቆጠረ\n",
      "ሲሆን\n",
      "በዚህ\n",
      "ከቀጠለም\n",
      "ከፍተኛ\n",
      "ተፈናቆዮች\n",
      "በሚገኙበት\n",
      "በዚህ\n",
      "ስፍራ\n",
      "ሰብአዊ\n",
      "ሁኔታዎች\n",
      "ሊከፉ\n",
      "እንደሚችሉ\n",
      "ሲጂኤን\n",
      "ዘግቧል\n",
      "የአለም\n",
      "ጤና\n",
      "ድርጅት\n",
      "ሀላፊ\n",
      "ዶክተር\n",
      "ቴዎድሮስ\n",
      "በአካባቢው\n",
      "በሚካሄደው\n",
      "ከፍተኛ\n",
      "ውግያ\n",
      "ምክንያት\n",
      "በአስከፊ\n",
      "ሁኔታ\n",
      "ላይ\n",
      "የሚገኙ\n",
      "ታማሚዎች\n",
      "እና\n",
      "የጤና\n",
      "ባለሙያዎችን\n",
      "ማስወጣት\n",
      "አልተቻለም\n",
      "ብለዋል\n",
      "የራፋ\n",
      "ድንበር\n",
      "መዘጋትን\n",
      "ተከትሎ\n",
      "አሜሪካ\n",
      "ተመድ\n",
      "እና\n",
      "ሌሎች\n",
      "የሰበአዊ\n",
      "ድጋፍ\n",
      "የሚያደርጉ\n",
      "አካላት\n",
      "አማራጭ\n",
      "የእርዳታ\n",
      "ማስተላለፍያ\n",
      "መንገዶችን\n",
      "በማፈላለግ\n",
      "ላይ\n",
      "ናቸው\n",
      "ተኛ\n",
      "ወሩን\n",
      "ባስቆጠረው\n",
      "የጋዛ\n",
      "ጦርነት\n",
      "ከ\n",
      "ሺ\n",
      "የሚሻገሩ\n",
      "ንጹሀን\n",
      "ህይወታቸው\n",
      "አልፏል\n"
     ]
    }
   ],
   "source": [
    "for word in ascii_removed.split():\n",
    "    print(word)"
   ]
  },
  {
   "cell_type": "code",
   "execution_count": 19,
   "metadata": {},
   "outputs": [
    {
     "data": {
      "text/plain": [
       "''"
      ]
     },
     "execution_count": 19,
     "metadata": {},
     "output_type": "execute_result"
    }
   ],
   "source": [
    "cleaner.normalize_char_level_missmatch(\"\")\n"
   ]
  }
 ],
 "metadata": {
  "kernelspec": {
   "display_name": "nlp",
   "language": "python",
   "name": "python3"
  },
  "language_info": {
   "codemirror_mode": {
    "name": "ipython",
    "version": 3
   },
   "file_extension": ".py",
   "mimetype": "text/x-python",
   "name": "python",
   "nbconvert_exporter": "python",
   "pygments_lexer": "ipython3",
   "version": "3.12.0"
  }
 },
 "nbformat": 4,
 "nbformat_minor": 2
}
